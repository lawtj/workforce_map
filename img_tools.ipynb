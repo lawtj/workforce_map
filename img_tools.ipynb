{
 "cells": [
  {
   "cell_type": "code",
   "execution_count": 5,
   "metadata": {},
   "outputs": [],
   "source": [
    "from PIL import Image\n",
    "\n",
    "def make_transparent(imgname, ext):\n",
    "    imgname = imgname\n",
    "\n",
    "    # Load the image\n",
    "    img = Image.open(f'./static/images/{imgname}.{ext}')\n",
    "\n",
    "    # Convert the image to RGBA if it isn't already\n",
    "    img = img.convert(\"RGBA\")\n",
    "\n",
    "    # Get data of the image\n",
    "    data = img.getdata()\n",
    "\n",
    "    # List to hold new image's data\n",
    "    new_data = []\n",
    "\n",
    "    # Define the color we want to make transparent\n",
    "    # In this case, it is pure white\n",
    "    to_be_transparent = (255, 255, 255, 255)\n",
    "\n",
    "    # Tolerance for color comparison\n",
    "    tolerance = 10\n",
    "\n",
    "    # Iterate through each pixel\n",
    "    for item in data:\n",
    "        # Change all white (also shades of whites)\n",
    "        # pixels to transparent (white here, you can change as per the background color of your image)\n",
    "        if all(i > 255 - tolerance for i in item[:3]):\n",
    "            new_data.append((255, 255, 255, 0))  # Making white pixels fully transparent\n",
    "        else:\n",
    "            new_data.append(item)  # Other pixels remain unchanged\n",
    "\n",
    "    # Update image data\n",
    "    img.putdata(new_data)\n",
    "\n",
    "    # Save new image\n",
    "    img.save(f'./static/images/{imgname}_alpha.png', 'PNG')"
   ]
  },
  {
   "cell_type": "code",
   "execution_count": 7,
   "metadata": {},
   "outputs": [],
   "source": [
    "make_transparent('wfsa_logo')"
   ]
  },
  {
   "cell_type": "code",
   "execution_count": 2,
   "metadata": {},
   "outputs": [],
   "source": [
    "def convert_png(imgname,ext):\n",
    "    imgname = imgname\n",
    "\n",
    "    # Load the image\n",
    "    img = Image.open(f'./static/images/{imgname}.{ext}')\n",
    "\n",
    "    # Save new image\n",
    "    img.save(f'./static/images/{imgname}.png', 'PNG')"
   ]
  },
  {
   "cell_type": "code",
   "execution_count": 9,
   "metadata": {},
   "outputs": [],
   "source": [
    "def crop_to_edges(imgname, background_color=(255, 255, 255)):\n",
    "    imgname = imgname\n",
    "    img = Image.open(f'./static/images/{imgname}.png')\n",
    "    # Convert the image to RGBA if it isn't already\n",
    "    img = img.convert(\"RGBA\")\n",
    "    \n",
    "    # Find the bounding box of the non-background pixels\n",
    "    bbox = img.getbbox()\n",
    "    \n",
    "    # Crop the image to the contents of the bounding box\n",
    "    if bbox:\n",
    "        cropped_img = img.crop(bbox)\n",
    "        cropped_img.save(f'./static/images/{imgname}_cropped.png')"
   ]
  },
  {
   "cell_type": "code",
   "execution_count": 7,
   "metadata": {},
   "outputs": [],
   "source": [
    "def resize_image(input_img_name, size):\n",
    "    original_image = Image.open(f'./static/images/{input_img_name}.png')\n",
    "    width, height = original_image.size\n",
    "    if width > height:\n",
    "        aspect_ratio = (width / height)\n",
    "        new_height = size\n",
    "        new_width = int(new_height * aspect_ratio)\n",
    "    else:\n",
    "        aspect_ratio = (height / width)\n",
    "        new_width = size\n",
    "        new_height = int(new_width * aspect_ratio)\n",
    "    \n",
    "    resized_image = original_image.resize((new_width, new_height), Image.LANCZOS)\n",
    "    resized_image.save(f'./static/images/{input_img_name}'+'_small.png')\n",
    "\n",
    "resize_image('ohns_text_alpha', 300)  # Resizes the shorter side to 100px, keeping aspect ratio\n"
   ]
  },
  {
   "cell_type": "code",
   "execution_count": 3,
   "metadata": {},
   "outputs": [],
   "source": [
    "#convert webp to png\n",
    "convert_png('ohns_text','jpg')"
   ]
  },
  {
   "cell_type": "code",
   "execution_count": 18,
   "metadata": {},
   "outputs": [],
   "source": [
    "#crop png to edges\n",
    "crop_to_edges('icon', 'icon')"
   ]
  },
  {
   "cell_type": "code",
   "execution_count": 6,
   "metadata": {},
   "outputs": [],
   "source": [
    "# make transparent\n",
    "make_transparent('ohns_text', 'png')"
   ]
  }
 ],
 "metadata": {
  "kernelspec": {
   "display_name": "nofrills",
   "language": "python",
   "name": "python3"
  },
  "language_info": {
   "codemirror_mode": {
    "name": "ipython",
    "version": 3
   },
   "file_extension": ".py",
   "mimetype": "text/x-python",
   "name": "python",
   "nbconvert_exporter": "python",
   "pygments_lexer": "ipython3",
   "version": "3.12.3"
  }
 },
 "nbformat": 4,
 "nbformat_minor": 2
}
